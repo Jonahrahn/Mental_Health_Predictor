{
 "cells": [
  {
   "cell_type": "code",
   "execution_count": null,
   "id": "7a4cfd47",
   "metadata": {},
   "outputs": [],
   "source": [
    "import pandas as pd\n",
    "uscities = pd.read_csv(\"uscities.csv\")\n",
    "income = pd.read_csv(\"Raw_Data/US_Income_Kaggle.csv\")\n",
    "Mental_Health = pd.read_csv(\"Raw_Data/500_Cities__Mental_health_not_good_for___14_days_among_adults_aged___18_years.csv\")"
   ]
  },
  {
   "cell_type": "code",
   "execution_count": null,
   "id": "f518e286",
   "metadata": {},
   "outputs": [],
   "source": []
  },
  {
   "cell_type": "code",
   "execution_count": null,
   "id": "2ad48fe8",
   "metadata": {},
   "outputs": [],
   "source": [
    "uscities_order = [\"city\", \"state_id\", \"state_name\", \"population\", \"density\"]\n",
    "uscities_df = uscities[uscities_order]\n",
    "uscities_df\n",
    "uscities_df.info()"
   ]
  },
  {
   "cell_type": "code",
   "execution_count": null,
   "id": "7df92248",
   "metadata": {},
   "outputs": [],
   "source": [
    "#Renaming the Columns and Displaying Info\n",
    "uscities_df.rename(columns = {\n",
    "    \"city\":\"City\",\n",
    "    \"state_id\": \"State Abreviation\",\n",
    "    \"state_name\":\"State\",\n",
    "    \"population\":\"Population\",\n",
    "    \"density\":\"Population density\"\n",
    "    },inplace=True)\n",
    "uscities_df"
   ]
  },
  {
   "cell_type": "code",
   "execution_count": null,
   "id": "5d9e0794",
   "metadata": {},
   "outputs": [],
   "source": [
    "income_order = [\"State_Name\", \"State_ab\", \"City\", \"ALand\", \"AWater\",\"Median\",\"Stdev\"]\n",
    "income_df= income[income_order]\n",
    "income_df.info()"
   ]
  },
  {
   "cell_type": "code",
   "execution_count": null,
   "id": "abd9f17e",
   "metadata": {},
   "outputs": [],
   "source": [
    "#Strips the 0+ and +0i\n",
    "income_df[\"Stdev\"] = income_df[\"Stdev\"].map(lambda x: x.lstrip('0+').rstrip('+0i'))\n",
    "# income_df[\"Stdev\"] = income_df[\"Stdev\"].astype(float)\n",
    "\n",
    "#Change str to flt\n",
    "income_df[\"Stdev\"] = pd.to_numeric(income_df[\"Stdev\"],errors='coerce')"
   ]
  },
  {
   "cell_type": "code",
   "execution_count": null,
   "id": "15082a89",
   "metadata": {
    "scrolled": true
   },
   "outputs": [],
   "source": [
    "#Renaming the Columns and Displaying Info\n",
    "income_df.rename(columns = {\n",
    "    \"State_Name\": \"State\",\n",
    "    \"state_ab\":\"State Abreviation\",\n",
    "    \"City\":\"City\",\n",
    "    \"ALand\":\"Area of Land\",\n",
    "    \"AWater\":\"Area of Water\",\n",
    "    \"Median\":\"Median\",\n",
    "    \"stdev\":\"Standard Deviation\"\n",
    "    },inplace=True)\n",
    "income_df"
   ]
  },
  {
   "cell_type": "code",
   "execution_count": null,
   "id": "b88ad299",
   "metadata": {},
   "outputs": [],
   "source": [
    "#Pre cleaned Mental Health Data\n",
    "income_df.info()"
   ]
  },
  {
   "cell_type": "code",
   "execution_count": null,
   "id": "8d089733",
   "metadata": {},
   "outputs": [],
   "source": [
    "# Eliminated missing row in the Data and CityFIPS\n",
    "\n",
    "MH_data = pd.notnull(Mental_Health[\"Data_Value\"]) \n",
    "Mental_Health = Mental_Health[MH_data]\n",
    "Mental_order = [\"StateAbbr\", \"StateDesc\",\"CityName\", \"Low_Confidence_Limit\", \"Data_Value\", \"High_Confidence_Limit\", \"PopulationCount\"]\n",
    "Mental_Health = Mental_Health[Mental_order]\n",
    "\n",
    "#Convert to Dataframe\n",
    "MH_df = pd.DataFrame(Mental_Health)\n",
    "Mental_Health.info()\n"
   ]
  },
  {
   "cell_type": "code",
   "execution_count": null,
   "id": "2ac25066",
   "metadata": {},
   "outputs": [],
   "source": [
    "#Renaming the Columns\n",
    "MH_df.rename(columns = {\n",
    "    \"StateAbbr\": \"State_Abbr\",\n",
    "    \"StateDesc\": \"State\",\n",
    "    \"CityName\": \"City\", \n",
    "    \"Low_Confidence_Limit\":\"Low_Confidence_Limit\", \n",
    "    \"Data_Value\": \"MH_data\", \n",
    "    \"High_Confidence_Limit\":\"High_Confidence_Limit\", \n",
    "    \"PopulationCount\":\"Population_Count\"\n",
    "    },inplace=True)\n",
    "MH_df\n"
   ]
  }
 ],
 "metadata": {
  "interpreter": {
   "hash": "6eabba5997886771b844a80ffc8cb65a504cc06ddbe1fc17370e05f59e4e2d97"
  },
  "kernelspec": {
   "display_name": "Python 3 (ipykernel)",
   "language": "python",
   "name": "python3"
  },
  "language_info": {
   "codemirror_mode": {
    "name": "ipython",
    "version": 3
   },
   "file_extension": ".py",
   "mimetype": "text/x-python",
   "name": "python",
   "nbconvert_exporter": "python",
   "pygments_lexer": "ipython3",
   "version": "3.8.8"
  }
 },
 "nbformat": 4,
 "nbformat_minor": 5
}
